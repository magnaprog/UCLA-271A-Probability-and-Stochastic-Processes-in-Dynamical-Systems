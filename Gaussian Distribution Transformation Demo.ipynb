{
 "cells": [
  {
   "cell_type": "markdown",
   "metadata": {},
   "source": [
    "# Gaussian Distribution Transformation Demo\n",
    "\n",
    "This notebook demonstrates the transformation of Gaussian distribution data through linear and non-linear transformations.\n",
    "\n",
    "## Gaussian Distribution\n",
    "\n",
    "We start with a Gaussian distribution with mean \\(\\mu = 0\\) and standard deviation \\(\\sigma = 1\\).\n",
    "\n",
    "```python\n",
    "# Parameters for the original Gaussian distribution\n",
    "mu_original, sigma_original = 0, 1\n",
    "\n",
    "# Generate Gaussian data\n",
    "original_data = generate_gaussian_data(mu_original, sigma_original)\n"
   ]
  },
  {
   "cell_type": "code",
   "execution_count": 1,
   "metadata": {},
   "outputs": [
    {
     "data": {
      "image/png": "[encoded data removed]",
      "text/plain": [
       "<Figure size 864x432 with 3 Axes>"
      ]
     },
     "metadata": {
      "needs_background": "light"
     },
     "output_type": "display_data"
    }
   ],
   "source": [
    "import numpy as np\n",
    "import matplotlib.pyplot as plt\n",
    "from scipy.stats import norm\n",
    "from sklearn.preprocessing import PolynomialFeatures\n",
    "from sklearn.linear_model import LinearRegression\n",
    "\n",
    "# Function to generate Gaussian data\n",
    "def generate_gaussian_data(mu, sigma, size=1000):\n",
    "    return np.random.normal(mu, sigma, size)\n",
    "\n",
    "# Function to perform linear transformation\n",
    "def linear_transformation(data, slope, intercept):\n",
    "    return slope * data + intercept\n",
    "\n",
    "# Function to perform non-linear transformation (quadratic)\n",
    "def nonlinear_transformation(data):\n",
    "    poly = PolynomialFeatures(degree=2, include_bias=False)\n",
    "    transformed_data = poly.fit_transform(data.reshape(-1, 1))\n",
    "    return transformed_data[:, 1]  # Use the quadratic term\n",
    "\n",
    "# Parameters for the original Gaussian distribution\n",
    "mu_original, sigma_original = 0, 1\n",
    "\n",
    "# Generate Gaussian data\n",
    "original_data = generate_gaussian_data(mu_original, sigma_original)\n",
    "\n",
    "# Linear transformation parameters\n",
    "slope = 2\n",
    "intercept = 3\n",
    "\n",
    "# Apply linear transformation\n",
    "linear_transformed_data = linear_transformation(original_data, slope, intercept)\n",
    "\n",
    "# Apply non-linear transformation (quadratic)\n",
    "nonlinear_transformed_data = nonlinear_transformation(original_data)\n",
    "\n",
    "# Plot the original, linear-transformed, and non-linear-transformed data\n",
    "plt.figure(figsize=(12, 6))\n",
    "\n",
    "plt.subplot(1, 3, 1)\n",
    "plt.hist(original_data, bins=50, density=True, alpha=0.7, color='blue')\n",
    "plt.title('Original Gaussian Distribution')\n",
    "\n",
    "plt.subplot(1, 3, 2)\n",
    "plt.hist(linear_transformed_data, bins=50, density=True, alpha=0.7, color='orange')\n",
    "plt.title('Linear Transformed Distribution')\n",
    "\n",
    "plt.subplot(1, 3, 3)\n",
    "plt.hist(nonlinear_transformed_data, bins=50, density=True, alpha=0.7, color='green')\n",
    "plt.title('Non-linear Transformed Distribution')\n",
    "\n",
    "plt.tight_layout()\n",
    "plt.show()\n"
   ]
  },
  {
   "cell_type": "markdown",
   "metadata": {},
   "source": [
    "## Linear Transformation\n",
    "\n",
    "Next, we perform a linear transformation on the Gaussian data using the formula \\(y = mx + b\\), where \\(m\\) is the slope and \\(b\\) is the intercept.\n",
    "\n",
    "```python\n",
    "# Linear transformation parameters\n",
    "slope = 2\n",
    "intercept = 3\n",
    "\n",
    "# Apply linear transformation\n",
    "linear_transformed_data = linear_transformation(original_data, slope, intercept)\n"
   ]
  },
  {
   "cell_type": "code",
   "execution_count": 2,
   "metadata": {},
   "outputs": [],
   "source": [
    "# Linear transformation parameters\n",
    "slope = 2\n",
    "intercept = 3\n",
    "\n",
    "# Apply linear transformation\n",
    "linear_transformed_data = linear_transformation(original_data, slope, intercept)\n"
   ]
  },
  {
   "cell_type": "markdown",
   "metadata": {},
   "source": [
    "## Non-linear Transformation\n",
    "\n",
    "We also apply a non-linear transformation using a quadratic function \\(y = ax^2 + bx + c\\).\n",
    "\n",
    "```python\n",
    "# Apply non-linear transformation (quadratic)\n",
    "nonlinear_transformed_data = nonlinear_transformation(original_data)\n"
   ]
  },
  {
   "cell_type": "code",
   "execution_count": 3,
   "metadata": {},
   "outputs": [],
   "source": [
    "# Apply non-linear transformation (quadratic)\n",
    "nonlinear_transformed_data = nonlinear_transformation(original_data)\n"
   ]
  }
 ],
 "metadata": {
  "kernelspec": {
   "display_name": "Python 3.8 (py38)",
   "language": "python",
   "name": "py38"
  },
  "language_info": {
   "codemirror_mode": {
    "name": "ipython",
    "version": 3
   },
   "file_extension": ".py",
   "mimetype": "text/x-python",
   "name": "python",
   "nbconvert_exporter": "python",
   "pygments_lexer": "ipython3",
   "version": "3.8.5"
  }
 },
 "nbformat": 4,
 "nbformat_minor": 4
}
